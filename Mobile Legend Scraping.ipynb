{
  "nbformat": 4,
  "nbformat_minor": 0,
  "metadata": {
    "colab": {
      "provenance": [],
      "gpuType": "T4"
    },
    "kernelspec": {
      "name": "python3",
      "display_name": "Python 3"
    },
    "language_info": {
      "name": "python"
    },
    "accelerator": "GPU"
  },
  "cells": [
    {
      "cell_type": "markdown",
      "source": [
        "# Sentimen Analysis (Scraping Mobile Legend App Review)\n",
        "\n",
        "\n",
        "*   Nama            : Reza Faisal\n",
        "*   Email : rezha.faizal567@gmail.com\n",
        "* ID Dicoding : rezaafaisal\n",
        "\n"
      ],
      "metadata": {
        "id": "8rBAyO41Uw1g"
      }
    },
    {
      "cell_type": "code",
      "source": [
        "!uv venv\n",
        "!source .venv/bin/activate"
      ],
      "metadata": {
        "colab": {
          "base_uri": "https://localhost:8080/"
        },
        "id": "I3hHTnX8S273",
        "outputId": "9551f277-0559-4469-8e8f-831896e82186"
      },
      "execution_count": null,
      "outputs": [
        {
          "output_type": "stream",
          "name": "stdout",
          "text": [
            "Using CPython 3.10.12 interpreter at: \u001b[36m/usr/bin/python3\u001b[39m\n",
            "Creating virtual environment at: \u001b[36m.venv\u001b[39m\n",
            "Activate with: \u001b[32msource .venv/bin/activate\u001b[39m\n"
          ]
        }
      ]
    },
    {
      "cell_type": "code",
      "execution_count": null,
      "metadata": {
        "colab": {
          "base_uri": "https://localhost:8080/"
        },
        "id": "b1mPmTq-Sgqw",
        "outputId": "9009fc16-f203-4f8b-b215-bcee75c5a980"
      },
      "outputs": [
        {
          "output_type": "stream",
          "name": "stdout",
          "text": [
            "\u001b[2mUsing Python 3.10.12 environment at /usr\u001b[0m\n",
            "\u001b[2K\u001b[2mResolved \u001b[1m1 package\u001b[0m \u001b[2min 124ms\u001b[0m\u001b[0m\n",
            "\u001b[2K\u001b[37m⠙\u001b[0m \u001b[2mPreparing packages...\u001b[0m (0/1)\n",
            "\u001b[2K\u001b[1A\u001b[37m⠙\u001b[0m \u001b[2mPreparing packages...\u001b[0m (0/1)\n",
            "\u001b[2K\u001b[1A\u001b[37m⠙\u001b[0m \u001b[2mPreparing packages...\u001b[0m (0/1)\n",
            "\u001b[2K\u001b[2mPrepared \u001b[1m1 package\u001b[0m \u001b[2min 13ms\u001b[0m\u001b[0m\n",
            "\u001b[2K\u001b[2mInstalled \u001b[1m1 package\u001b[0m \u001b[2min 1ms\u001b[0m\u001b[0m\n",
            " \u001b[32m+\u001b[39m \u001b[1mgoogle-play-scraper\u001b[0m\u001b[2m==1.2.7\u001b[0m\n"
          ]
        }
      ],
      "source": [
        "!uv pip install --system google_play_scraper"
      ]
    },
    {
      "cell_type": "code",
      "source": [
        "from google_play_scraper import Sort, reviews_all, reviews\n",
        "import polars as pl"
      ],
      "metadata": {
        "id": "xVLHHiyLS_Dn"
      },
      "execution_count": null,
      "outputs": []
    },
    {
      "cell_type": "code",
      "source": [
        "result, continues_token = reviews(\n",
        "    'com.mobile.legends',\n",
        "    lang='id', # defaults to 'en'\n",
        "    country='id', # defaults to 'us'\n",
        "    sort=Sort.MOST_RELEVANT, # defaults to Sort.MOST_RELEVANT\n",
        "    count=10100,\n",
        ")"
      ],
      "metadata": {
        "id": "wfHZSOlpUI57"
      },
      "execution_count": null,
      "outputs": []
    },
    {
      "cell_type": "code",
      "source": [
        "dirty_df = pl.DataFrame(result)"
      ],
      "metadata": {
        "id": "sy0WDcZaUai0"
      },
      "execution_count": null,
      "outputs": []
    },
    {
      "cell_type": "code",
      "source": [
        "dirty_df.count()"
      ],
      "metadata": {
        "colab": {
          "base_uri": "https://localhost:8080/",
          "height": 149
        },
        "id": "w1INQmqnv1GG",
        "outputId": "acaf53e9-33a7-4bf8-b888-1a4abaaf0916"
      },
      "execution_count": null,
      "outputs": [
        {
          "output_type": "execute_result",
          "data": {
            "text/plain": [
              "shape: (1, 11)\n",
              "┌──────────┬──────────┬───────────┬─────────┬───┬───────┬──────────────┬───────────┬────────────┐\n",
              "│ reviewId ┆ userName ┆ userImage ┆ content ┆ … ┆ at    ┆ replyContent ┆ repliedAt ┆ appVersion │\n",
              "│ ---      ┆ ---      ┆ ---       ┆ ---     ┆   ┆ ---   ┆ ---          ┆ ---       ┆ ---        │\n",
              "│ u32      ┆ u32      ┆ u32       ┆ u32     ┆   ┆ u32   ┆ u32          ┆ u32       ┆ u32        │\n",
              "╞══════════╪══════════╪═══════════╪═════════╪═══╪═══════╪══════════════╪═══════════╪════════════╡\n",
              "│ 10100    ┆ 10100    ┆ 10100     ┆ 10100   ┆ … ┆ 10100 ┆ 384          ┆ 384       ┆ 10100      │\n",
              "└──────────┴──────────┴───────────┴─────────┴───┴───────┴──────────────┴───────────┴────────────┘"
            ],
            "text/html": [
              "<div><style>\n",
              ".dataframe > thead > tr,\n",
              ".dataframe > tbody > tr {\n",
              "  text-align: right;\n",
              "  white-space: pre-wrap;\n",
              "}\n",
              "</style>\n",
              "<small>shape: (1, 11)</small><table border=\"1\" class=\"dataframe\"><thead><tr><th>reviewId</th><th>userName</th><th>userImage</th><th>content</th><th>score</th><th>thumbsUpCount</th><th>reviewCreatedVersion</th><th>at</th><th>replyContent</th><th>repliedAt</th><th>appVersion</th></tr><tr><td>u32</td><td>u32</td><td>u32</td><td>u32</td><td>u32</td><td>u32</td><td>u32</td><td>u32</td><td>u32</td><td>u32</td><td>u32</td></tr></thead><tbody><tr><td>10100</td><td>10100</td><td>10100</td><td>10100</td><td>10100</td><td>10100</td><td>10100</td><td>10100</td><td>384</td><td>384</td><td>10100</td></tr></tbody></table></div>"
            ]
          },
          "metadata": {},
          "execution_count": 16
        }
      ]
    },
    {
      "cell_type": "code",
      "source": [
        "dirty_df.sample(4)"
      ],
      "metadata": {
        "colab": {
          "base_uri": "https://localhost:8080/",
          "height": 504
        },
        "id": "0-s_Atybmu_2",
        "outputId": "9206a535-af55-4509-850c-45ae24e39a81"
      },
      "execution_count": null,
      "outputs": [
        {
          "output_type": "execute_result",
          "data": {
            "text/plain": [
              "shape: (4, 11)\n",
              "┌───────────┬───────────┬───────────┬───────────┬───┬───────────┬───────────┬───────────┬──────────┐\n",
              "│ reviewId  ┆ userName  ┆ userImage ┆ content   ┆ … ┆ at        ┆ replyCont ┆ repliedAt ┆ appVersi │\n",
              "│ ---       ┆ ---       ┆ ---       ┆ ---       ┆   ┆ ---       ┆ ent       ┆ ---       ┆ on       │\n",
              "│ str       ┆ str       ┆ str       ┆ str       ┆   ┆ datetime[ ┆ ---       ┆ datetime[ ┆ ---      │\n",
              "│           ┆           ┆           ┆           ┆   ┆ μs]       ┆ str       ┆ μs]       ┆ str      │\n",
              "╞═══════════╪═══════════╪═══════════╪═══════════╪═══╪═══════════╪═══════════╪═══════════╪══════════╡\n",
              "│ f9c4b85d- ┆ Pengguna  ┆ https://p ┆ Jaringan  ┆ … ┆ 2024-10-3 ┆ null      ┆ null      ┆ 19.2.21. │\n",
              "│ 0607-4a0c ┆ Google    ┆ lay-lh.go ┆ nya jelek ┆   ┆ 1         ┆           ┆           ┆ 104      │\n",
              "│ -91f7-e05 ┆           ┆ ogleuserc ┆ banget,   ┆   ┆ 08:55:23  ┆           ┆           ┆          │\n",
              "│ e33…      ┆           ┆ ont…      ┆ pad…      ┆   ┆           ┆           ┆           ┆          │\n",
              "│ d85bec92- ┆ Pengguna  ┆ https://p ┆ surat     ┆ … ┆ 2024-10-2 ┆ null      ┆ null      ┆ 19.2.21. │\n",
              "│ ade9-4c87 ┆ Google    ┆ lay-lh.go ┆ terbuka   ┆   ┆ 8         ┆           ┆           ┆ 104      │\n",
              "│ -a001-ac4 ┆           ┆ ogleuserc ┆ untuk     ┆   ┆ 12:25:33  ┆           ┆           ┆          │\n",
              "│ e09…      ┆           ┆ ont…      ┆ pihak     ┆   ┆           ┆           ┆           ┆          │\n",
              "│           ┆           ┆           ┆ mlbb…     ┆   ┆           ┆           ┆           ┆          │\n",
              "│ 4271876e- ┆ Pengguna  ┆ https://p ┆ Saran klo ┆ … ┆ 2024-09-2 ┆ null      ┆ null      ┆ 19.2.11. │\n",
              "│ d0f6-452f ┆ Google    ┆ lay-lh.go ┆ bisa jngn ┆   ┆ 3         ┆           ┆           ┆ 103      │\n",
              "│ -8945-4c1 ┆           ┆ ogleuserc ┆ cuma      ┆   ┆ 06:10:07  ┆           ┆           ┆          │\n",
              "│ 9ce…      ┆           ┆ ont…      ┆ meman…    ┆   ┆           ┆           ┆           ┆          │\n",
              "│ 7a2500e1- ┆ Pengguna  ┆ https://p ┆ Game ini  ┆ … ┆ 2024-11-1 ┆ null      ┆ null      ┆ 1.9.29.1 │\n",
              "│ aef8-4523 ┆ Google    ┆ lay-lh.go ┆ bikin aku ┆   ┆ 1         ┆           ┆           ┆ 0113     │\n",
              "│ -aec7-2d9 ┆           ┆ ogleuserc ┆ GK bosen  ┆   ┆ 13:59:29  ┆           ┆           ┆          │\n",
              "│ dee…      ┆           ┆ ont…      ┆ la…       ┆   ┆           ┆           ┆           ┆          │\n",
              "└───────────┴───────────┴───────────┴───────────┴───┴───────────┴───────────┴───────────┴──────────┘"
            ],
            "text/html": [
              "<div><style>\n",
              ".dataframe > thead > tr,\n",
              ".dataframe > tbody > tr {\n",
              "  text-align: right;\n",
              "  white-space: pre-wrap;\n",
              "}\n",
              "</style>\n",
              "<small>shape: (4, 11)</small><table border=\"1\" class=\"dataframe\"><thead><tr><th>reviewId</th><th>userName</th><th>userImage</th><th>content</th><th>score</th><th>thumbsUpCount</th><th>reviewCreatedVersion</th><th>at</th><th>replyContent</th><th>repliedAt</th><th>appVersion</th></tr><tr><td>str</td><td>str</td><td>str</td><td>str</td><td>i64</td><td>i64</td><td>str</td><td>datetime[μs]</td><td>str</td><td>datetime[μs]</td><td>str</td></tr></thead><tbody><tr><td>&quot;f9c4b85d-0607-4a0c-91f7-e05e33…</td><td>&quot;Pengguna Google&quot;</td><td>&quot;https://play-lh.googleusercont…</td><td>&quot;Jaringan nya jelek banget, pad…</td><td>1</td><td>32</td><td>&quot;19.2.21.104&quot;</td><td>2024-10-31 08:55:23</td><td>null</td><td>null</td><td>&quot;19.2.21.104&quot;</td></tr><tr><td>&quot;d85bec92-ade9-4c87-a001-ac4e09…</td><td>&quot;Pengguna Google&quot;</td><td>&quot;https://play-lh.googleusercont…</td><td>&quot;surat terbuka untuk pihak mlbb…</td><td>1</td><td>2</td><td>&quot;19.2.21.104&quot;</td><td>2024-10-28 12:25:33</td><td>null</td><td>null</td><td>&quot;19.2.21.104&quot;</td></tr><tr><td>&quot;4271876e-d0f6-452f-8945-4c19ce…</td><td>&quot;Pengguna Google&quot;</td><td>&quot;https://play-lh.googleusercont…</td><td>&quot;Saran klo bisa jngn cuma meman…</td><td>4</td><td>0</td><td>&quot;19.2.11.103&quot;</td><td>2024-09-23 06:10:07</td><td>null</td><td>null</td><td>&quot;19.2.11.103&quot;</td></tr><tr><td>&quot;7a2500e1-aef8-4523-aec7-2d9dee…</td><td>&quot;Pengguna Google&quot;</td><td>&quot;https://play-lh.googleusercont…</td><td>&quot;Game ini bikin aku GK bosen la…</td><td>5</td><td>0</td><td>&quot;1.9.29.10113&quot;</td><td>2024-11-11 13:59:29</td><td>null</td><td>null</td><td>&quot;1.9.29.10113&quot;</td></tr></tbody></table></div>"
            ]
          },
          "metadata": {},
          "execution_count": 17
        }
      ]
    },
    {
      "cell_type": "code",
      "source": [
        "# memilih atribut yang akan di proprocessing\n",
        "selected_df = dirty_df.select([\"userName\", \"content\", \"score\", \"thumbsUpCount\", \"at\"])"
      ],
      "metadata": {
        "id": "anHvwwONUcpN"
      },
      "execution_count": null,
      "outputs": []
    },
    {
      "cell_type": "code",
      "source": [
        "selected_df.schema"
      ],
      "metadata": {
        "colab": {
          "base_uri": "https://localhost:8080/"
        },
        "id": "cbm12OhRWWp8",
        "outputId": "f64ff87b-82a8-4640-97c6-7b15d1942fb5"
      },
      "execution_count": null,
      "outputs": [
        {
          "output_type": "execute_result",
          "data": {
            "text/plain": [
              "Schema([('userName', String),\n",
              "        ('content', String),\n",
              "        ('score', Int64),\n",
              "        ('thumbsUpCount', Int64),\n",
              "        ('at', Datetime(time_unit='us', time_zone=None))])"
            ]
          },
          "metadata": {},
          "execution_count": 9
        }
      ]
    },
    {
      "cell_type": "code",
      "source": [
        "selected_df.describe()"
      ],
      "metadata": {
        "colab": {
          "base_uri": "https://localhost:8080/",
          "height": 467
        },
        "id": "rG1RDdu_WdUF",
        "outputId": "6b999a13-dd28-43ce-84d0-a921f49abaa9"
      },
      "execution_count": null,
      "outputs": [
        {
          "output_type": "execute_result",
          "data": {
            "text/plain": [
              "shape: (9, 6)\n",
              "┌────────────┬───────────────────┬───────────────────┬──────────┬───────────────┬──────────────────┐\n",
              "│ statistic  ┆ userName          ┆ content           ┆ score    ┆ thumbsUpCount ┆ at               │\n",
              "│ ---        ┆ ---               ┆ ---               ┆ ---      ┆ ---           ┆ ---              │\n",
              "│ str        ┆ str               ┆ str               ┆ f64      ┆ f64           ┆ str              │\n",
              "╞════════════╪═══════════════════╪═══════════════════╪══════════╪═══════════════╪══════════════════╡\n",
              "│ count      ┆ 10100             ┆ 10100             ┆ 10100.0  ┆ 10100.0       ┆ 10100            │\n",
              "│ null_count ┆ 0                 ┆ 0                 ┆ 0.0      ┆ 0.0           ┆ 0                │\n",
              "│ mean       ┆ null              ┆ null              ┆ 2.283465 ┆ 83.041584     ┆ 2024-10-02       │\n",
              "│            ┆                   ┆                   ┆          ┆               ┆ 06:39:12.740792  │\n",
              "│ std        ┆ null              ┆ null              ┆ 1.6119   ┆ 793.803987    ┆ null             │\n",
              "│ min        ┆ 08.I KOMANG       ┆ !!!!!!!! Game     ┆ 1.0      ┆ 0.0           ┆ 2024-06-19       │\n",
              "│            ┆ KRISNA JAYA XI    ┆ yang sangat memb… ┆          ┆               ┆ 05:07:13         │\n",
              "│            ┆ BOG…              ┆                   ┆          ┆               ┆                  │\n",
              "│ 25%        ┆ null              ┆ null              ┆ 1.0      ┆ 0.0           ┆ 2024-09-17       │\n",
              "│            ┆                   ┆                   ┆          ┆               ┆ 17:44:10         │\n",
              "│ 50%        ┆ null              ┆ null              ┆ 1.0      ┆ 1.0           ┆ 2024-10-04       │\n",
              "│            ┆                   ┆                   ┆          ┆               ┆ 06:04:42         │\n",
              "│ 75%        ┆ null              ┆ null              ┆ 4.0      ┆ 3.0           ┆ 2024-10-30       │\n",
              "│            ┆                   ┆                   ┆          ┆               ┆ 11:30:22         │\n",
              "│ max        ┆ ペレスエマ        ┆ 🤬🤬🤬🤬🤬🤬🤬🤬  ┆ 5.0      ┆ 42015.0       ┆ 2024-11-24       │\n",
              "│            ┆                   ┆ 😡😡😡😡🤮🤮🤮🤮  ┆          ┆               ┆ 13:49:21         │\n",
              "│            ┆                   ┆ 🤮😡😡😡😡😡😡😡  ┆          ┆               ┆                  │\n",
              "│            ┆                   ┆ 🤬🤬🤬😡😡😡…     ┆          ┆               ┆                  │\n",
              "└────────────┴───────────────────┴───────────────────┴──────────┴───────────────┴──────────────────┘"
            ],
            "text/html": [
              "<div><style>\n",
              ".dataframe > thead > tr,\n",
              ".dataframe > tbody > tr {\n",
              "  text-align: right;\n",
              "  white-space: pre-wrap;\n",
              "}\n",
              "</style>\n",
              "<small>shape: (9, 6)</small><table border=\"1\" class=\"dataframe\"><thead><tr><th>statistic</th><th>userName</th><th>content</th><th>score</th><th>thumbsUpCount</th><th>at</th></tr><tr><td>str</td><td>str</td><td>str</td><td>f64</td><td>f64</td><td>str</td></tr></thead><tbody><tr><td>&quot;count&quot;</td><td>&quot;10100&quot;</td><td>&quot;10100&quot;</td><td>10100.0</td><td>10100.0</td><td>&quot;10100&quot;</td></tr><tr><td>&quot;null_count&quot;</td><td>&quot;0&quot;</td><td>&quot;0&quot;</td><td>0.0</td><td>0.0</td><td>&quot;0&quot;</td></tr><tr><td>&quot;mean&quot;</td><td>null</td><td>null</td><td>2.283465</td><td>83.041584</td><td>&quot;2024-10-02 06:39:12.740792&quot;</td></tr><tr><td>&quot;std&quot;</td><td>null</td><td>null</td><td>1.6119</td><td>793.803987</td><td>null</td></tr><tr><td>&quot;min&quot;</td><td>&quot;08.I KOMANG KRISNA JAYA XI BOG…</td><td>&quot;!!!!!!!! Game yang sangat memb…</td><td>1.0</td><td>0.0</td><td>&quot;2024-06-19 05:07:13&quot;</td></tr><tr><td>&quot;25%&quot;</td><td>null</td><td>null</td><td>1.0</td><td>0.0</td><td>&quot;2024-09-17 17:44:10&quot;</td></tr><tr><td>&quot;50%&quot;</td><td>null</td><td>null</td><td>1.0</td><td>1.0</td><td>&quot;2024-10-04 06:04:42&quot;</td></tr><tr><td>&quot;75%&quot;</td><td>null</td><td>null</td><td>4.0</td><td>3.0</td><td>&quot;2024-10-30 11:30:22&quot;</td></tr><tr><td>&quot;max&quot;</td><td>&quot;ペレスエマ&quot;</td><td>&quot;🤬🤬🤬🤬🤬🤬🤬🤬😡😡😡😡🤮🤮🤮🤮🤮😡😡😡😡😡😡😡🤬🤬🤬😡😡😡…</td><td>5.0</td><td>42015.0</td><td>&quot;2024-11-24 13:49:21&quot;</td></tr></tbody></table></div>"
            ]
          },
          "metadata": {},
          "execution_count": 19
        }
      ]
    },
    {
      "cell_type": "code",
      "source": [
        "selected_df.null_count()"
      ],
      "metadata": {
        "colab": {
          "base_uri": "https://localhost:8080/",
          "height": 129
        },
        "id": "PNLX4AqXdPqA",
        "outputId": "c5ee0d3b-4003-47e7-88e2-408054f034af"
      },
      "execution_count": null,
      "outputs": [
        {
          "output_type": "execute_result",
          "data": {
            "text/plain": [
              "shape: (1, 5)\n",
              "┌──────────┬─────────┬───────┬───────────────┬─────┐\n",
              "│ userName ┆ content ┆ score ┆ thumbsUpCount ┆ at  │\n",
              "│ ---      ┆ ---     ┆ ---   ┆ ---           ┆ --- │\n",
              "│ u32      ┆ u32     ┆ u32   ┆ u32           ┆ u32 │\n",
              "╞══════════╪═════════╪═══════╪═══════════════╪═════╡\n",
              "│ 0        ┆ 0       ┆ 0     ┆ 0             ┆ 0   │\n",
              "└──────────┴─────────┴───────┴───────────────┴─────┘"
            ],
            "text/html": [
              "<div><style>\n",
              ".dataframe > thead > tr,\n",
              ".dataframe > tbody > tr {\n",
              "  text-align: right;\n",
              "  white-space: pre-wrap;\n",
              "}\n",
              "</style>\n",
              "<small>shape: (1, 5)</small><table border=\"1\" class=\"dataframe\"><thead><tr><th>userName</th><th>content</th><th>score</th><th>thumbsUpCount</th><th>at</th></tr><tr><td>u32</td><td>u32</td><td>u32</td><td>u32</td><td>u32</td></tr></thead><tbody><tr><td>0</td><td>0</td><td>0</td><td>0</td><td>0</td></tr></tbody></table></div>"
            ]
          },
          "metadata": {},
          "execution_count": 20
        }
      ]
    },
    {
      "cell_type": "code",
      "source": [
        "selected_df.is_duplicated().sum()"
      ],
      "metadata": {
        "colab": {
          "base_uri": "https://localhost:8080/"
        },
        "id": "mny47kPkepb2",
        "outputId": "a523d85d-beb4-40b7-bc12-e54206c3c70f"
      },
      "execution_count": null,
      "outputs": [
        {
          "output_type": "execute_result",
          "data": {
            "text/plain": [
              "0"
            ]
          },
          "metadata": {},
          "execution_count": 21
        }
      ]
    },
    {
      "cell_type": "code",
      "source": [
        "selected_df.write_csv(\"mobile_legend_reviews.csv\")"
      ],
      "metadata": {
        "id": "kl9W3s02e1PW"
      },
      "execution_count": null,
      "outputs": []
    }
  ]
}